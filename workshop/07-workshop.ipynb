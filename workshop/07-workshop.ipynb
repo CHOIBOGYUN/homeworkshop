{
 "cells": [
  {
   "cell_type": "code",
   "execution_count": 3,
   "metadata": {},
   "outputs": [],
   "source": [
    "class Circle:\n",
    "    pi = 3.14\n",
    "    x=0\n",
    "    y=0\n",
    "    r=0\n",
    "    def area(self):\n",
    "        return self.pi*self.r*self.r\n",
    "    def circumference(self):\n",
    "        return 2*self.pi*self.r\n",
    "    def center(self):\n",
    "        return(self.x, self.y)\n",
    "    def move(self, x, y):\n",
    "        self.x = x\n",
    "        self.y = y\n",
    "        \n"
   ]
  },
  {
   "cell_type": "code",
   "execution_count": 4,
   "metadata": {},
   "outputs": [
    {
     "name": "stdout",
     "output_type": "stream",
     "text": [
      "28.259999999999998\n",
      "18.84\n"
     ]
    }
   ],
   "source": [
    "a = Circle()\n",
    "a.x = 2\n",
    "a.y = 4\n",
    "a.r = 3\n",
    "a.area()\n",
    "a.circumference()\n",
    "print(a.area())\n",
    "print(a.circumference())"
   ]
  }
 ],
 "metadata": {
  "kernelspec": {
   "display_name": "Python 3",
   "language": "python",
   "name": "python3"
  },
  "language_info": {
   "codemirror_mode": {
    "name": "ipython",
    "version": 3
   },
   "file_extension": ".py",
   "mimetype": "text/x-python",
   "name": "python",
   "nbconvert_exporter": "python",
   "pygments_lexer": "ipython3",
   "version": "3.6.7"
  }
 },
 "nbformat": 4,
 "nbformat_minor": 2
}
