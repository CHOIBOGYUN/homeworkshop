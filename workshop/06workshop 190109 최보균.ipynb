{
 "cells": [
  {
   "cell_type": "markdown",
   "metadata": {},
   "source": [
    "- 양의 정수 x를 입력 받아 제곱근의 근사값의 결과를 반환하는 함수를 작성하세요.\n",
    "- sqrt() 사용 금지"
   ]
  },
  {
   "cell_type": "code",
   "execution_count": 1,
   "metadata": {},
   "outputs": [
    {
     "data": {
      "text/plain": [
       "2.2360687255859375"
      ]
     },
     "execution_count": 1,
     "metadata": {},
     "output_type": "execute_result"
    }
   ],
   "source": [
    "def my_sqrt(n):\n",
    "    # 루트 n은 무조건 1보다 크고 n보다 작음\n",
    "    left = 1\n",
    "    right = n\n",
    "    \n",
    "    answer = 0\n",
    "    \n",
    "    while abs(answer**2 - n) > 0.00001:\n",
    "        \n",
    "        answer = (left+right)/2\n",
    "        if answer**2 < n:\n",
    "            left = answer\n",
    "        else:\n",
    "            right = answer\n",
    "    return answer\n",
    "\n",
    "my_sqrt(5)"
   ]
  }
 ],
 "metadata": {
  "kernelspec": {
   "display_name": "Python 3",
   "language": "python",
   "name": "python3"
  },
  "language_info": {
   "codemirror_mode": {
    "name": "ipython",
    "version": 3
   },
   "file_extension": ".py",
   "mimetype": "text/x-python",
   "name": "python",
   "nbconvert_exporter": "python",
   "pygments_lexer": "ipython3",
   "version": "3.6.7"
  }
 },
 "nbformat": 4,
 "nbformat_minor": 2
}
