{
 "cells": [
  {
   "cell_type": "code",
   "execution_count": 2,
   "metadata": {},
   "outputs": [],
   "source": [
    "class Circle:\n",
    "    pi = 3.14\n",
    "    x = 0\n",
    "    y = 0\n",
    "    r = 0\n",
    "    \n",
    "    def area(self): #넓이\n",
    "    \n",
    "        return self.pi * self.r * self.r\n",
    "        \n",
    "    \n",
    "    def circumference(self): #둘레\n",
    "        return 2 * self.pi * self.r\n",
    "    \n",
    "    def center(self):\n",
    "        return (self.x, self.y)\n",
    "    \n",
    "    def move(self, x, y):\n",
    "        self.x = x\n",
    "        self.y = y\n"
   ]
  },
  {
   "cell_type": "markdown",
   "metadata": {},
   "source": [
    "- 반지름이 3이고 x,y 좌표가 (2.4)인 원을 만들어 넓이와 둘레를 출력"
   ]
  },
  {
   "cell_type": "code",
   "execution_count": 14,
   "metadata": {},
   "outputs": [
    {
     "data": {
      "text/plain": [
       "18.84"
      ]
     },
     "execution_count": 14,
     "metadata": {},
     "output_type": "execute_result"
    }
   ],
   "source": [
    "class Circle:\n",
    "    pi = 3.14\n",
    "    x = 0\n",
    "    y = 0\n",
    "    r = 0\n",
    "    \n",
    "    def area(self):\n",
    "        return self.pi * self.r * self.r\n",
    "    def circumference(self):\n",
    "        return 2 * self.pi * self.r\n",
    "    def center(self):\n",
    "        return (self.x, self.y)\n",
    "    def move(self, x, y):\n",
    "        self.x = x\n",
    "        self.y = y\n",
    "    \n",
    "        \n",
    "\n",
    "my_circle = Circle()\n",
    "my_circle.move(2,4)\n",
    "my_circle.r = 3\n",
    "my_circle.pi = 3.14\n",
    "\n",
    "my_circle.area()\n",
    "my_circle.circumference()"
   ]
  },
  {
   "cell_type": "code",
   "execution_count": 19,
   "metadata": {},
   "outputs": [],
   "source": [
    "class Person:\n",
    "    name = \"임시이름\"\n",
    "    age = 100\n",
    "    \n",
    "    def __init__(self,n, a):\n",
    "        print(\"안녕 나는 init 안에 있어\")\n",
    "        self.name = n\n",
    "        self.age = a\n",
    "        \n",
    "    def greeting(self):\n",
    "        print(f\"안녕 내 이름은 {self.name}\")"
   ]
  },
  {
   "cell_type": "code",
   "execution_count": 21,
   "metadata": {},
   "outputs": [
    {
     "name": "stdout",
     "output_type": "stream",
     "text": [
      "안녕 나는 init 안에 있어\n",
      "보균\n"
     ]
    }
   ],
   "source": [
    "Bogyun = Person(\"보균\",100)\n",
    "print(Bogyun.name)"
   ]
  }
 ],
 "metadata": {
  "kernelspec": {
   "display_name": "Python 3",
   "language": "python",
   "name": "python3"
  },
  "language_info": {
   "codemirror_mode": {
    "name": "ipython",
    "version": 3
   },
   "file_extension": ".py",
   "mimetype": "text/x-python",
   "name": "python",
   "nbconvert_exporter": "python",
   "pygments_lexer": "ipython3",
   "version": "3.6.7"
  }
 },
 "nbformat": 4,
 "nbformat_minor": 2
}
